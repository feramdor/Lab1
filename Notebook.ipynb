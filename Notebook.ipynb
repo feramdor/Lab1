{
 "cells": [
  {
   "attachments": {},
   "cell_type": "markdown",
   "id": "dab7a316",
   "metadata": {},
   "source": [
    "<img style=\"float: left; margin: 30px 15px 15px 15px;\" src=\"https://pngimage.net/wp-content/uploads/2018/06/logo-iteso-png-5.png\" width=\"300\" height=\"100\" /> "
   ]
  },
  {
   "attachments": {},
   "cell_type": "markdown",
   "id": "cc947777",
   "metadata": {},
   "source": [
    "<center><font color=#555555><font size=6> MAF1731 - Microstructure and Trading Systems </font> <br> <br>\n",
    "    \n",
    "<center><font color=#555555><font size=5> Maria Fernanda Amador Alvarez </font> <br> <br> <br> <br>\n",
    "   \n",
    "<center> <font color= #555555> <font size = 4> Jan 2023 </a> | <font color= #555555> <font size = 4> Repository: <a href= https://github.com/feramdor/Lab1> Link Repo"
   ]
  },
  {
   "attachments": {},
   "cell_type": "markdown",
   "id": "25b810fc",
   "metadata": {},
   "source": [
    "<center> <font color= #555555> <font size = 6> Módulo 1 </font> <br> <br> <font color= #555555> <font size = 5> Inversión del capital"
   ]
  },
  {
   "attachments": {},
   "cell_type": "markdown",
   "id": "fe9230ca",
   "metadata": {},
   "source": [
    "# <font color= #6B6B6B> <font size = 5> Abstract </font>"
   ]
  },
  {
   "attachments": {},
   "cell_type": "markdown",
   "id": "81bd6dda",
   "metadata": {},
   "source": [
    "Se tiene 1 millón de pesos y dos opciones para invertirlos. Una opción es hacer una inversión pasiva, comprando el 100% de un ETF que sigue el mercado de renta variable mexicano. La otra opción es hacer una inversión activa, creando un portafolio con los mismos activos que el ETF y haciendo un rebalanceo con un algoritmo específico."
   ]
  },
  {
   "attachments": {},
   "cell_type": "markdown",
   "id": "975c2271",
   "metadata": {},
   "source": [
    "# <font color= #6B6B6B> <font size = 6> 1. Introduction </font>"
   ]
  },
  {
   "attachments": {},
   "cell_type": "markdown",
   "id": "fd2e136c",
   "metadata": {},
   "source": [
    "En este trabajo, se llevaron a cabo dos estrategias de inversión, una pasiva y una activa, para posteriormente comparar sus resultados y concluir cuál podría ser la mejor opción para un inversor que tiene un capital de 1 millón de pesos. Las acciones se tomaron de un índice creado con acciones pertenecientes a la Bolsa Mexicana de Valores, por lo que están listadas en pesos.\n",
    "\n",
    "En la estrategia pasiva, se simula que se compran las mismas acciones que el índice NAFTRAC en la fecha 0 y no se hace ningún cambio en los títulos, se evalúa el valor de cada cartera mensual y se analizan sus rendimientos. Lo que se intenta simular en la estrategia activa es el rebalanceo del índice NAFTRAC, las ponderaciones de sus activos no son constantes y el índice cambia sus componentes de acuerdo con el desempeño de las compañías con el fin de diversificar sus inversiones y generar un mejor rendimiento.\n",
    "\n",
    "Finalmente, se toman indicadores de rendimiento de cada estrategia, como el rendimiento promedio, el rendimiento acumulado y la relación Sharpe, para analizar cuál estrategia es mejor."
   ]
  },
  {
   "attachments": {},
   "cell_type": "markdown",
   "id": "9333d26a",
   "metadata": {},
   "source": [
    "# <font color= #6B6B6B> <font size = 6 > 2. Install/Load Packages and Depedencies </font>"
   ]
  },
  {
   "cell_type": "code",
   "execution_count": 1,
   "id": "43e347ce",
   "metadata": {},
   "outputs": [],
   "source": [
    "# Librerias\n",
    "import pandas as pd\n",
    "import numpy as np\n",
    "import scipy.spatial.distance as sc\n",
    "import matplotlib.pyplot as plt\n",
    "import numpy as np"
   ]
  },
  {
   "cell_type": "code",
   "execution_count": null,
   "id": "0b0ca069",
   "metadata": {},
   "outputs": [],
   "source": []
  },
  {
   "cell_type": "code",
   "execution_count": null,
   "id": "02a7bb9a",
   "metadata": {},
   "outputs": [],
   "source": []
  },
  {
   "cell_type": "code",
   "execution_count": null,
   "id": "7a804dc5",
   "metadata": {},
   "outputs": [],
   "source": []
  },
  {
   "cell_type": "code",
   "execution_count": null,
   "id": "c544596c",
   "metadata": {},
   "outputs": [],
   "source": []
  },
  {
   "cell_type": "code",
   "execution_count": null,
   "id": "98297477",
   "metadata": {},
   "outputs": [],
   "source": []
  },
  {
   "cell_type": "code",
   "execution_count": null,
   "id": "c0791d09",
   "metadata": {},
   "outputs": [],
   "source": []
  },
  {
   "cell_type": "code",
   "execution_count": null,
   "id": "cb3f7cf3",
   "metadata": {},
   "outputs": [],
   "source": []
  }
 ],
 "metadata": {
  "kernelspec": {
   "display_name": "base",
   "language": "python",
   "name": "python3"
  },
  "language_info": {
   "codemirror_mode": {
    "name": "ipython",
    "version": 3
   },
   "file_extension": ".py",
   "mimetype": "text/x-python",
   "name": "python",
   "nbconvert_exporter": "python",
   "pygments_lexer": "ipython3",
   "version": "3.9.12"
  },
  "vscode": {
   "interpreter": {
    "hash": "8c8fc2e0ba7427c85b89a036e5ebd06d6d068590f5141f2ce1bbe7a31f46c41e"
   }
  }
 },
 "nbformat": 4,
 "nbformat_minor": 5
}
